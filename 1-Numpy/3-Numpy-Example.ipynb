{
 "cells": [
  {
   "cell_type": "code",
   "execution_count": 1,
   "id": "4ee348f4-5833-4182-88ea-22084ee047c7",
   "metadata": {},
   "outputs": [],
   "source": [
    "import numpy as np\n"
   ]
  },
  {
   "cell_type": "code",
   "execution_count": 34,
   "id": "47ef2b3d-49fe-4159-83ef-54a38a0f6337",
   "metadata": {},
   "outputs": [],
   "source": [
    "np_array= np.array([[10,20,30],[20,30,40]])\n",
    "np_array2=np.array([1,2,3,4])\n",
    "np_array3=np.array([1,2,3])\n",
    "np_array4=np.array([[1,2],[3,4]])"
   ]
  },
  {
   "cell_type": "code",
   "execution_count": 35,
   "id": "3ae48fde-93ce-49a4-a95a-ad676c9997ca",
   "metadata": {},
   "outputs": [
    {
     "data": {
      "text/plain": [
       "2"
      ]
     },
     "execution_count": 35,
     "metadata": {},
     "output_type": "execute_result"
    }
   ],
   "source": [
    "np_array.ndim   #kaç size olduğunu "
   ]
  },
  {
   "cell_type": "code",
   "execution_count": 36,
   "id": "bce99256-41ea-4305-9a79-206787ec2747",
   "metadata": {},
   "outputs": [
    {
     "data": {
      "text/plain": [
       "(2, 3)"
      ]
     },
     "execution_count": 36,
     "metadata": {},
     "output_type": "execute_result"
    }
   ],
   "source": [
    "np_array.shape #boyutunu verir"
   ]
  },
  {
   "cell_type": "code",
   "execution_count": 37,
   "id": "bd7582f2-9b70-49c6-a25a-68dfd5466aab",
   "metadata": {},
   "outputs": [
    {
     "data": {
      "text/plain": [
       "array([1, 2, 3, 4])"
      ]
     },
     "execution_count": 37,
     "metadata": {},
     "output_type": "execute_result"
    }
   ],
   "source": [
    "\n",
    "np_array2"
   ]
  },
  {
   "cell_type": "code",
   "execution_count": 38,
   "id": "bf822f40-ace8-4f94-8a15-fdf642d3f8a1",
   "metadata": {},
   "outputs": [
    {
     "data": {
      "text/plain": [
       "array([[10, 20, 30],\n",
       "       [20, 30, 40]])"
      ]
     },
     "execution_count": 38,
     "metadata": {},
     "output_type": "execute_result"
    }
   ],
   "source": [
    "np_array"
   ]
  },
  {
   "cell_type": "code",
   "execution_count": 39,
   "id": "d0c88fc0-4e00-47c6-98c7-69c9f2352772",
   "metadata": {},
   "outputs": [
    {
     "ename": "ValueError",
     "evalue": "operands could not be broadcast together with shapes (2,3) (4,) ",
     "output_type": "error",
     "traceback": [
      "\u001b[1;31m---------------------------------------------------------------------------\u001b[0m",
      "\u001b[1;31mValueError\u001b[0m                                Traceback (most recent call last)",
      "Cell \u001b[1;32mIn[39], line 1\u001b[0m\n\u001b[1;32m----> 1\u001b[0m np_array\u001b[38;5;241m+\u001b[39mnp_array2\n",
      "\u001b[1;31mValueError\u001b[0m: operands could not be broadcast together with shapes (2,3) (4,) "
     ]
    }
   ],
   "source": [
    "np_array+np_array2"
   ]
  },
  {
   "cell_type": "code",
   "execution_count": 40,
   "id": "e07c3f17-2929-4b9f-8314-190e9a027a66",
   "metadata": {},
   "outputs": [
    {
     "data": {
      "text/plain": [
       "array([[11, 22, 33],\n",
       "       [21, 32, 43]])"
      ]
     },
     "execution_count": 40,
     "metadata": {},
     "output_type": "execute_result"
    }
   ],
   "source": [
    "np_array+np_array3"
   ]
  },
  {
   "cell_type": "code",
   "execution_count": 41,
   "id": "1294f8fc-85ab-484a-a1c9-c7a7af730f4c",
   "metadata": {},
   "outputs": [
    {
     "ename": "ValueError",
     "evalue": "operands could not be broadcast together with shapes (2,3) (2,2) ",
     "output_type": "error",
     "traceback": [
      "\u001b[1;31m---------------------------------------------------------------------------\u001b[0m",
      "\u001b[1;31mValueError\u001b[0m                                Traceback (most recent call last)",
      "Cell \u001b[1;32mIn[41], line 1\u001b[0m\n\u001b[1;32m----> 1\u001b[0m np_array\u001b[38;5;241m+\u001b[39mnp_array4\n",
      "\u001b[1;31mValueError\u001b[0m: operands could not be broadcast together with shapes (2,3) (2,2) "
     ]
    }
   ],
   "source": [
    "np_array+np_array4"
   ]
  },
  {
   "cell_type": "code",
   "execution_count": 42,
   "id": "417dc78d-9177-4e19-9981-3d9d88948739",
   "metadata": {},
   "outputs": [
    {
     "data": {
      "text/plain": [
       "(3,)"
      ]
     },
     "execution_count": 42,
     "metadata": {},
     "output_type": "execute_result"
    }
   ],
   "source": [
    "np_array3.shape"
   ]
  },
  {
   "cell_type": "code",
   "execution_count": 43,
   "id": "7330c68b-5752-458b-b5cd-b586162f3baa",
   "metadata": {},
   "outputs": [],
   "source": [
    "np_array5 =([[1,2,3],[4,5,6]])"
   ]
  },
  {
   "cell_type": "code",
   "execution_count": 44,
   "id": "eb1093c2-d5d7-4e75-b801-473b6599384c",
   "metadata": {},
   "outputs": [
    {
     "data": {
      "text/plain": [
       "array([[11, 22, 33],\n",
       "       [24, 35, 46]])"
      ]
     },
     "execution_count": 44,
     "metadata": {},
     "output_type": "execute_result"
    }
   ],
   "source": [
    "np_array+np_array5"
   ]
  },
  {
   "cell_type": "code",
   "execution_count": 45,
   "id": "87f08428-5906-4f76-8d35-2701271ddc29",
   "metadata": {},
   "outputs": [
    {
     "name": "stdout",
     "output_type": "stream",
     "text": [
      "7\n"
     ]
    }
   ],
   "source": [
    "arr = np.array([[[1, 2], [3, 4]], [[5, 6], [7, 8]]])\n",
    "print(arr[1, 1, 0])"
   ]
  },
  {
   "cell_type": "code",
   "execution_count": 46,
   "id": "f45a1642-7d49-426e-a273-d302c3d8ef1d",
   "metadata": {},
   "outputs": [],
   "source": [
    "arr = np.array([10, 15, 20, 25, 30, 35, 40])\n"
   ]
  },
  {
   "cell_type": "code",
   "execution_count": 51,
   "id": "8c16d506-5022-40b6-a4c5-a6ccfd6ba0f2",
   "metadata": {},
   "outputs": [
    {
     "data": {
      "text/plain": [
       "array([20, 25, 30])"
      ]
     },
     "execution_count": 51,
     "metadata": {},
     "output_type": "execute_result"
    }
   ],
   "source": [
    "arr[2:5]"
   ]
  },
  {
   "cell_type": "code",
   "execution_count": 54,
   "id": "759bfecb-fd87-443d-b9a0-ec84dc5a537b",
   "metadata": {},
   "outputs": [],
   "source": [
    "#dot product"
   ]
  },
  {
   "cell_type": "code",
   "execution_count": 66,
   "id": "dbf0ee53-7fbb-4298-8c42-52a0cfd81d4e",
   "metadata": {},
   "outputs": [],
   "source": [
    "first_matrix=np.array([[10,20,30]])"
   ]
  },
  {
   "cell_type": "code",
   "execution_count": 67,
   "id": "1e0575e3-38d8-4e39-9e2d-dab7bc0c444a",
   "metadata": {},
   "outputs": [
    {
     "data": {
      "text/plain": [
       "(1, 3)"
      ]
     },
     "execution_count": 67,
     "metadata": {},
     "output_type": "execute_result"
    }
   ],
   "source": [
    "first_matrix.shape"
   ]
  },
  {
   "cell_type": "code",
   "execution_count": 68,
   "id": "f467d7af-05a1-484c-9f30-8405f9a52d12",
   "metadata": {},
   "outputs": [],
   "source": [
    "second_matrix=np.array([[1,2],[4,5]])"
   ]
  },
  {
   "cell_type": "code",
   "execution_count": 69,
   "id": "39019ff6-826f-4316-8f00-34a688af2ccf",
   "metadata": {},
   "outputs": [
    {
     "data": {
      "text/plain": [
       "(2, 2)"
      ]
     },
     "execution_count": 69,
     "metadata": {},
     "output_type": "execute_result"
    }
   ],
   "source": [
    "second_matrix.shape"
   ]
  },
  {
   "cell_type": "code",
   "execution_count": 71,
   "id": "75c5bc8b-4401-4932-8eae-174231255e80",
   "metadata": {},
   "outputs": [
    {
     "ename": "ValueError",
     "evalue": "operands could not be broadcast together with shapes (1,3) (2,2) ",
     "output_type": "error",
     "traceback": [
      "\u001b[1;31m---------------------------------------------------------------------------\u001b[0m",
      "\u001b[1;31mValueError\u001b[0m                                Traceback (most recent call last)",
      "Cell \u001b[1;32mIn[71], line 1\u001b[0m\n\u001b[1;32m----> 1\u001b[0m first_matrix\u001b[38;5;241m*\u001b[39msecond_matrix\n",
      "\u001b[1;31mValueError\u001b[0m: operands could not be broadcast together with shapes (1,3) (2,2) "
     ]
    }
   ],
   "source": [
    "first_matrix*second_matrix"
   ]
  },
  {
   "cell_type": "code",
   "execution_count": 72,
   "id": "d049aa89-face-489b-b747-176bd1c0fc07",
   "metadata": {},
   "outputs": [
    {
     "ename": "ValueError",
     "evalue": "shapes (1,3) and (2,2) not aligned: 3 (dim 1) != 2 (dim 0)",
     "output_type": "error",
     "traceback": [
      "\u001b[1;31m---------------------------------------------------------------------------\u001b[0m",
      "\u001b[1;31mValueError\u001b[0m                                Traceback (most recent call last)",
      "Cell \u001b[1;32mIn[72], line 1\u001b[0m\n\u001b[1;32m----> 1\u001b[0m first_matrix\u001b[38;5;241m.\u001b[39mdot(second_matrix)\n",
      "\u001b[1;31mValueError\u001b[0m: shapes (1,3) and (2,2) not aligned: 3 (dim 1) != 2 (dim 0)"
     ]
    }
   ],
   "source": [
    "first_matrix.dot(second_matrix)"
   ]
  },
  {
   "cell_type": "code",
   "execution_count": 73,
   "id": "0b11277b-02ff-4349-9794-d08f0154fc7f",
   "metadata": {},
   "outputs": [],
   "source": [
    "third_matrix=np.array([[1,2],[3,4],[5,6]])"
   ]
  },
  {
   "cell_type": "code",
   "execution_count": 74,
   "id": "76608579-3faa-4987-94f6-02ee8281a8a4",
   "metadata": {},
   "outputs": [
    {
     "data": {
      "text/plain": [
       "(3, 2)"
      ]
     },
     "execution_count": 74,
     "metadata": {},
     "output_type": "execute_result"
    }
   ],
   "source": [
    "third_matrix.shape"
   ]
  },
  {
   "cell_type": "code",
   "execution_count": 75,
   "id": "c23d6cbd-1eb3-4e9d-bff6-3a118717c448",
   "metadata": {},
   "outputs": [
    {
     "data": {
      "text/plain": [
       "array([[220, 280]])"
      ]
     },
     "execution_count": 75,
     "metadata": {},
     "output_type": "execute_result"
    }
   ],
   "source": [
    "first_matrix.dot(third_matrix)"
   ]
  },
  {
   "cell_type": "code",
   "execution_count": null,
   "id": "d24eede8-3cac-41c1-b7d3-f434cb2bed83",
   "metadata": {},
   "outputs": [],
   "source": []
  }
 ],
 "metadata": {
  "kernelspec": {
   "display_name": "Python [conda env:base] *",
   "language": "python",
   "name": "conda-base-py"
  },
  "language_info": {
   "codemirror_mode": {
    "name": "ipython",
    "version": 3
   },
   "file_extension": ".py",
   "mimetype": "text/x-python",
   "name": "python",
   "nbconvert_exporter": "python",
   "pygments_lexer": "ipython3",
   "version": "3.13.5"
  }
 },
 "nbformat": 4,
 "nbformat_minor": 5
}
