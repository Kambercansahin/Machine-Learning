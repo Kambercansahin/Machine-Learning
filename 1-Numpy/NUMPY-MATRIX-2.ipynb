{
 "cells": [
  {
   "cell_type": "code",
   "execution_count": 1,
   "id": "55b2d4a0-c07d-4881-8d87-af5a6eeb7db4",
   "metadata": {},
   "outputs": [],
   "source": [
    "import numpy as np\n"
   ]
  },
  {
   "cell_type": "code",
   "execution_count": 2,
   "id": "0a3f3488-6103-4616-a9cf-4e3b4fc90dd2",
   "metadata": {},
   "outputs": [],
   "source": [
    "#row * column "
   ]
  },
  {
   "cell_type": "code",
   "execution_count": 4,
   "id": "652fa37f-dd03-4789-bd06-e6fd0cc271f7",
   "metadata": {},
   "outputs": [],
   "source": [
    "numpy_matrix=np.array([[5,10],[15,20]])"
   ]
  },
  {
   "cell_type": "code",
   "execution_count": 5,
   "id": "93f87ee6-c962-402c-b66d-d0e943e7c5c6",
   "metadata": {},
   "outputs": [
    {
     "data": {
      "text/plain": [
       "array([[ 5, 10],\n",
       "       [15, 20]])"
      ]
     },
     "execution_count": 5,
     "metadata": {},
     "output_type": "execute_result"
    }
   ],
   "source": [
    "numpy_matrix"
   ]
  },
  {
   "cell_type": "code",
   "execution_count": 6,
   "id": "92532652-a814-46f3-bb33-9a10c7eb8279",
   "metadata": {},
   "outputs": [
    {
     "data": {
      "text/plain": [
       "15"
      ]
     },
     "execution_count": 6,
     "metadata": {},
     "output_type": "execute_result"
    }
   ],
   "source": [
    " numpy_matrix[1][0]"
   ]
  },
  {
   "cell_type": "code",
   "execution_count": 7,
   "id": "74704b0a-de9d-48ce-914a-a9088cb54567",
   "metadata": {},
   "outputs": [
    {
     "data": {
      "text/plain": [
       "50"
      ]
     },
     "execution_count": 7,
     "metadata": {},
     "output_type": "execute_result"
    }
   ],
   "source": [
    "numpy_matrix.sum()"
   ]
  },
  {
   "cell_type": "code",
   "execution_count": null,
   "id": "27bf7377-ebdf-4189-bc91-825e2ed535fa",
   "metadata": {},
   "outputs": [],
   "source": []
  }
 ],
 "metadata": {
  "kernelspec": {
   "display_name": "Python 3 (ipykernel)",
   "language": "python",
   "name": "python3"
  },
  "language_info": {
   "codemirror_mode": {
    "name": "ipython",
    "version": 3
   },
   "file_extension": ".py",
   "mimetype": "text/x-python",
   "name": "python",
   "nbconvert_exporter": "python",
   "pygments_lexer": "ipython3",
   "version": "3.12.7"
  }
 },
 "nbformat": 4,
 "nbformat_minor": 5
}
