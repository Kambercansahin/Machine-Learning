{
 "cells": [
  {
   "cell_type": "code",
   "execution_count": 1,
   "id": "9d9b6c7d-9e5d-48fa-9d32-e490b7d7f3c2",
   "metadata": {},
   "outputs": [],
   "source": [
    "import numpy as np"
   ]
  },
  {
   "cell_type": "code",
   "execution_count": 2,
   "id": "6c14e670-de17-4232-a64e-f0c29d6f868a",
   "metadata": {},
   "outputs": [],
   "source": [
    "my_list=[10,20,30,40]"
   ]
  },
  {
   "cell_type": "code",
   "execution_count": 5,
   "id": "14176421-43b3-4a79-af34-5ceb45ea7a29",
   "metadata": {},
   "outputs": [],
   "source": [
    "data=np.array(my_list)"
   ]
  },
  {
   "cell_type": "code",
   "execution_count": 6,
   "id": "52266509-8ca2-4b6a-b275-10998e9cc8e6",
   "metadata": {},
   "outputs": [
    {
     "data": {
      "text/plain": [
       "array([1., 1., 1., 1., 1.])"
      ]
     },
     "execution_count": 6,
     "metadata": {},
     "output_type": "execute_result"
    }
   ],
   "source": [
    "np.ones(5)"
   ]
  },
  {
   "cell_type": "code",
   "execution_count": 7,
   "id": "29ce0714-6686-4528-b1c0-704438869f22",
   "metadata": {},
   "outputs": [
    {
     "data": {
      "text/plain": [
       "array([0.36497586, 0.38370967, 0.79645505, 0.64143033, 0.21970986])"
      ]
     },
     "execution_count": 7,
     "metadata": {},
     "output_type": "execute_result"
    }
   ],
   "source": [
    "np.random.random(5)"
   ]
  },
  {
   "cell_type": "code",
   "execution_count": 8,
   "id": "60c60b85-e615-486a-92ac-22a087545afb",
   "metadata": {},
   "outputs": [],
   "source": [
    "#array arithmetic"
   ]
  },
  {
   "cell_type": "code",
   "execution_count": 9,
   "id": "8df1793f-0f50-42a2-aef8-f80cc7ed5f10",
   "metadata": {},
   "outputs": [],
   "source": [
    "my_list1=[1,2]"
   ]
  },
  {
   "cell_type": "code",
   "execution_count": 10,
   "id": "ba5a564c-ac39-4ea4-9492-b5499feefcf6",
   "metadata": {},
   "outputs": [],
   "source": [
    "my_list2=[2,3]"
   ]
  },
  {
   "cell_type": "code",
   "execution_count": 11,
   "id": "6cca6e25-7f2d-4739-8b35-a3d39be6200f",
   "metadata": {},
   "outputs": [
    {
     "data": {
      "text/plain": [
       "[1, 2, 2, 3]"
      ]
     },
     "execution_count": 11,
     "metadata": {},
     "output_type": "execute_result"
    }
   ],
   "source": [
    "my_list1+my_list2"
   ]
  },
  {
   "cell_type": "code",
   "execution_count": 12,
   "id": "2a365744-2b3c-4da4-b18f-b57a0b9f8afe",
   "metadata": {},
   "outputs": [],
   "source": [
    "my_numpy_array1=np.array(my_list1)"
   ]
  },
  {
   "cell_type": "code",
   "execution_count": 13,
   "id": "088eac26-65c0-4a16-9efa-f42d8f3be817",
   "metadata": {},
   "outputs": [],
   "source": [
    "my_numpy_array2=np.array(my_list2)"
   ]
  },
  {
   "cell_type": "code",
   "execution_count": 14,
   "id": "12fbf869-3a82-43d3-97e8-17644d5d84c1",
   "metadata": {},
   "outputs": [
    {
     "data": {
      "text/plain": [
       "array([3, 5])"
      ]
     },
     "execution_count": 14,
     "metadata": {},
     "output_type": "execute_result"
    }
   ],
   "source": [
    "my_numpy_array1+my_numpy_array2"
   ]
  },
  {
   "cell_type": "code",
   "execution_count": null,
   "id": "9409841a-3b85-428d-905d-0a0604ca14f7",
   "metadata": {},
   "outputs": [],
   "source": []
  },
  {
   "cell_type": "code",
   "execution_count": 15,
   "id": "59fc996a-dd68-4a34-87eb-3f95eeb2778b",
   "metadata": {},
   "outputs": [],
   "source": [
    "#arange  & indexing"
   ]
  },
  {
   "cell_type": "code",
   "execution_count": 17,
   "id": "d540af7b-8f06-4179-9508-083d11af5a8f",
   "metadata": {},
   "outputs": [
    {
     "data": {
      "text/plain": [
       "[0, 1, 2, 3, 4, 5, 6, 7, 8, 9]"
      ]
     },
     "execution_count": 17,
     "metadata": {},
     "output_type": "execute_result"
    }
   ],
   "source": [
    "list(range(0,10))"
   ]
  },
  {
   "cell_type": "code",
   "execution_count": 19,
   "id": "216c8d1b-26cf-40e2-868d-ec776199b404",
   "metadata": {},
   "outputs": [],
   "source": [
    "np_array=np.arange(0,10)"
   ]
  },
  {
   "cell_type": "code",
   "execution_count": 21,
   "id": "44af87f5-829e-4801-9a7e-db625062c853",
   "metadata": {},
   "outputs": [
    {
     "data": {
      "text/plain": [
       "array([0, 1, 2, 3, 4, 5, 6, 7, 8, 9])"
      ]
     },
     "execution_count": 21,
     "metadata": {},
     "output_type": "execute_result"
    }
   ],
   "source": [
    "np_array"
   ]
  },
  {
   "cell_type": "code",
   "execution_count": 22,
   "id": "003a8d45-41f9-4991-a234-a61f1caef136",
   "metadata": {},
   "outputs": [
    {
     "data": {
      "text/plain": [
       "0"
      ]
     },
     "execution_count": 22,
     "metadata": {},
     "output_type": "execute_result"
    }
   ],
   "source": [
    "np_array[0]"
   ]
  },
  {
   "cell_type": "code",
   "execution_count": 23,
   "id": "8dc7af56-b2d3-4bd2-b322-918ee19d6bbd",
   "metadata": {},
   "outputs": [
    {
     "data": {
      "text/plain": [
       "9"
      ]
     },
     "execution_count": 23,
     "metadata": {},
     "output_type": "execute_result"
    }
   ],
   "source": [
    "np_array[-1]"
   ]
  },
  {
   "cell_type": "code",
   "execution_count": 24,
   "id": "e721457b-5c81-4b9f-8bce-4ce523e9e2d1",
   "metadata": {},
   "outputs": [
    {
     "data": {
      "text/plain": [
       "array([1, 2, 3])"
      ]
     },
     "execution_count": 24,
     "metadata": {},
     "output_type": "execute_result"
    }
   ],
   "source": [
    "np_array[1:4:]"
   ]
  },
  {
   "cell_type": "code",
   "execution_count": 25,
   "id": "51fcd102-b00b-400c-8453-65671c045d08",
   "metadata": {},
   "outputs": [
    {
     "data": {
      "text/plain": [
       "array([9, 8, 7, 6, 5, 4, 3, 2, 1, 0])"
      ]
     },
     "execution_count": 25,
     "metadata": {},
     "output_type": "execute_result"
    }
   ],
   "source": [
    "np_array[::-1]"
   ]
  },
  {
   "cell_type": "code",
   "execution_count": null,
   "id": "7268c79e-0a38-47ae-9502-31a6367d150b",
   "metadata": {},
   "outputs": [],
   "source": []
  },
  {
   "cell_type": "code",
   "execution_count": null,
   "id": "b77e82a2-57e8-4446-b8e4-fbce00ca9eda",
   "metadata": {},
   "outputs": [],
   "source": []
  },
  {
   "cell_type": "code",
   "execution_count": null,
   "id": "a585295e-4275-41f9-a793-99f6cb593947",
   "metadata": {},
   "outputs": [],
   "source": []
  },
  {
   "cell_type": "code",
   "execution_count": null,
   "id": "c133f281-6458-49e0-bb21-de523510bc5c",
   "metadata": {},
   "outputs": [],
   "source": []
  },
  {
   "cell_type": "code",
   "execution_count": null,
   "id": "9fd98e76-312c-45fb-91db-a16454006a82",
   "metadata": {},
   "outputs": [],
   "source": []
  },
  {
   "cell_type": "code",
   "execution_count": null,
   "id": "7ea6dd34-77d5-4876-a728-f55f0365b17f",
   "metadata": {},
   "outputs": [],
   "source": []
  }
 ],
 "metadata": {
  "kernelspec": {
   "display_name": "Python 3 (ipykernel)",
   "language": "python",
   "name": "python3"
  },
  "language_info": {
   "codemirror_mode": {
    "name": "ipython",
    "version": 3
   },
   "file_extension": ".py",
   "mimetype": "text/x-python",
   "name": "python",
   "nbconvert_exporter": "python",
   "pygments_lexer": "ipython3",
   "version": "3.12.7"
  }
 },
 "nbformat": 4,
 "nbformat_minor": 5
}
