{
 "cells": [
  {
   "cell_type": "code",
   "execution_count": 1,
   "id": "da85509a-512c-4e83-bf13-9fa046fd1e71",
   "metadata": {},
   "outputs": [],
   "source": [
    "import numpy as np\n"
   ]
  },
  {
   "cell_type": "code",
   "execution_count": 2,
   "id": "aa57594e-bf93-4df7-9bfe-1d083195ec79",
   "metadata": {},
   "outputs": [],
   "source": [
    "import pandas as pd"
   ]
  },
  {
   "cell_type": "code",
   "execution_count": 3,
   "id": "b5ae2852-f7fd-4290-92aa-580beda2c8fd",
   "metadata": {},
   "outputs": [],
   "source": [
    "grades = {\"CAN\":50,\"Nida\":100,\"Ahmet\":10,\"Mert\":40}"
   ]
  },
  {
   "cell_type": "code",
   "execution_count": 7,
   "id": "40daa841-0d29-441b-bece-122704b24987",
   "metadata": {},
   "outputs": [
    {
     "data": {
      "text/plain": [
       "CAN       50\n",
       "Nida     100\n",
       "Ahmet     10\n",
       "Mert      40\n",
       "dtype: int64"
      ]
     },
     "execution_count": 7,
     "metadata": {},
     "output_type": "execute_result"
    }
   ],
   "source": [
    "pd.Series(grades)"
   ]
  },
  {
   "cell_type": "code",
   "execution_count": 8,
   "id": "063e6386-8c84-40af-a93e-ec41de2036d4",
   "metadata": {},
   "outputs": [],
   "source": [
    "name=[\"can\",\"nida\",\"ahmet\",\"mert\"]"
   ]
  },
  {
   "cell_type": "code",
   "execution_count": 9,
   "id": "ebc6a2ad-b086-4859-bd0f-b62d0b2823f4",
   "metadata": {},
   "outputs": [
    {
     "data": {
      "text/plain": [
       "0      can\n",
       "1     nida\n",
       "2    ahmet\n",
       "3     mert\n",
       "dtype: object"
      ]
     },
     "execution_count": 9,
     "metadata": {},
     "output_type": "execute_result"
    }
   ],
   "source": [
    "pd.Series(name)"
   ]
  },
  {
   "cell_type": "code",
   "execution_count": 10,
   "id": "44c90f95-d563-4188-b377-bd8a9449bb54",
   "metadata": {},
   "outputs": [],
   "source": [
    "#arithmetic"
   ]
  },
  {
   "cell_type": "code",
   "execution_count": 17,
   "id": "c475102a-a226-4a4d-b87b-3a775b4acb7e",
   "metadata": {},
   "outputs": [],
   "source": [
    "contest_result=pd.Series(data=[10,20,30],index=[\"can\",\"nida\",\"ahmet\"])"
   ]
  },
  {
   "cell_type": "code",
   "execution_count": 18,
   "id": "8352a566-bb78-4ae3-958d-be9408312164",
   "metadata": {},
   "outputs": [],
   "source": [
    "contest_result2=pd.Series(data=[100,50,10],index=[\"can\",\"nida\",\"ahmet\"])"
   ]
  },
  {
   "cell_type": "code",
   "execution_count": 19,
   "id": "6855a1b6-8a6d-493d-a351-e39ab87b6426",
   "metadata": {},
   "outputs": [],
   "source": [
    "final_result=contest_result+contest_result2"
   ]
  },
  {
   "cell_type": "code",
   "execution_count": 20,
   "id": "d7aaf02c-c41a-4a40-992b-1f15705a2761",
   "metadata": {},
   "outputs": [
    {
     "data": {
      "text/plain": [
       "can      110\n",
       "nida      70\n",
       "ahmet     40\n",
       "dtype: int64"
      ]
     },
     "execution_count": 20,
     "metadata": {},
     "output_type": "execute_result"
    }
   ],
   "source": [
    "final_result"
   ]
  },
  {
   "cell_type": "code",
   "execution_count": null,
   "id": "75c6b926-64e1-4a24-86f3-97944dba4137",
   "metadata": {},
   "outputs": [],
   "source": []
  }
 ],
 "metadata": {
  "kernelspec": {
   "display_name": "Python [conda env:base] *",
   "language": "python",
   "name": "conda-base-py"
  },
  "language_info": {
   "codemirror_mode": {
    "name": "ipython",
    "version": 3
   },
   "file_extension": ".py",
   "mimetype": "text/x-python",
   "name": "python",
   "nbconvert_exporter": "python",
   "pygments_lexer": "ipython3",
   "version": "3.13.5"
  }
 },
 "nbformat": 4,
 "nbformat_minor": 5
}
