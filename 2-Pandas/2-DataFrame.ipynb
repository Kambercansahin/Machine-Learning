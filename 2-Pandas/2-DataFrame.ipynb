{
 "cells": [
  {
   "cell_type": "code",
   "execution_count": 4,
   "id": "cd37fd81-b1b7-45f1-b440-b718290e8c7a",
   "metadata": {},
   "outputs": [],
   "source": [
    "import numpy as np"
   ]
  },
  {
   "cell_type": "code",
   "execution_count": 5,
   "id": "6a71c109-a18e-4b8c-8564-1fdc62caa1b4",
   "metadata": {},
   "outputs": [],
   "source": [
    "import pandas as pd"
   ]
  },
  {
   "cell_type": "code",
   "execution_count": 6,
   "id": "7169b88b-c6e1-4ca7-9e72-ab2dc009604d",
   "metadata": {},
   "outputs": [],
   "source": [
    "data =np.random.randn(4,3)"
   ]
  },
  {
   "cell_type": "code",
   "execution_count": 7,
   "id": "06c3b3ad-f905-4e42-b6c7-c282ee602b8e",
   "metadata": {},
   "outputs": [
    {
     "data": {
      "text/plain": [
       "array([[-0.16957344,  0.15170546,  0.08629874],\n",
       "       [-0.82541914, -1.56745913, -1.54888574],\n",
       "       [-1.9982751 ,  1.15071655,  0.55226884],\n",
       "       [-0.13960214, -0.73333067, -0.70739974]])"
      ]
     },
     "execution_count": 7,
     "metadata": {},
     "output_type": "execute_result"
    }
   ],
   "source": [
    "data"
   ]
  },
  {
   "cell_type": "code",
   "execution_count": 8,
   "id": "f9b1d7ac-d991-4869-ba93-3675e2a6c94e",
   "metadata": {},
   "outputs": [],
   "source": [
    "data_frame=pd.DataFrame(data)"
   ]
  },
  {
   "cell_type": "code",
   "execution_count": 9,
   "id": "1cf07dbc-4cac-40da-876f-fda71b9f7b7e",
   "metadata": {},
   "outputs": [
    {
     "data": {
      "text/html": [
       "<div>\n",
       "<style scoped>\n",
       "    .dataframe tbody tr th:only-of-type {\n",
       "        vertical-align: middle;\n",
       "    }\n",
       "\n",
       "    .dataframe tbody tr th {\n",
       "        vertical-align: top;\n",
       "    }\n",
       "\n",
       "    .dataframe thead th {\n",
       "        text-align: right;\n",
       "    }\n",
       "</style>\n",
       "<table border=\"1\" class=\"dataframe\">\n",
       "  <thead>\n",
       "    <tr style=\"text-align: right;\">\n",
       "      <th></th>\n",
       "      <th>0</th>\n",
       "      <th>1</th>\n",
       "      <th>2</th>\n",
       "    </tr>\n",
       "  </thead>\n",
       "  <tbody>\n",
       "    <tr>\n",
       "      <th>0</th>\n",
       "      <td>-0.169573</td>\n",
       "      <td>0.151705</td>\n",
       "      <td>0.086299</td>\n",
       "    </tr>\n",
       "    <tr>\n",
       "      <th>1</th>\n",
       "      <td>-0.825419</td>\n",
       "      <td>-1.567459</td>\n",
       "      <td>-1.548886</td>\n",
       "    </tr>\n",
       "    <tr>\n",
       "      <th>2</th>\n",
       "      <td>-1.998275</td>\n",
       "      <td>1.150717</td>\n",
       "      <td>0.552269</td>\n",
       "    </tr>\n",
       "    <tr>\n",
       "      <th>3</th>\n",
       "      <td>-0.139602</td>\n",
       "      <td>-0.733331</td>\n",
       "      <td>-0.707400</td>\n",
       "    </tr>\n",
       "  </tbody>\n",
       "</table>\n",
       "</div>"
      ],
      "text/plain": [
       "          0         1         2\n",
       "0 -0.169573  0.151705  0.086299\n",
       "1 -0.825419 -1.567459 -1.548886\n",
       "2 -1.998275  1.150717  0.552269\n",
       "3 -0.139602 -0.733331 -0.707400"
      ]
     },
     "execution_count": 9,
     "metadata": {},
     "output_type": "execute_result"
    }
   ],
   "source": [
    "data_frame"
   ]
  },
  {
   "cell_type": "code",
   "execution_count": 10,
   "id": "1777a032-f652-4a0b-a01f-972acad18904",
   "metadata": {},
   "outputs": [],
   "source": [
    "new_df =pd.DataFrame(data,index=[\"Can\",\"nida\",\"ahmet\",\"enes\"],columns=[\"Salary\",\"age\",\"Seniority\"])"
   ]
  },
  {
   "cell_type": "code",
   "execution_count": 11,
   "id": "2221f15b-1a94-4918-8f37-c078fce23045",
   "metadata": {},
   "outputs": [
    {
     "data": {
      "text/html": [
       "<div>\n",
       "<style scoped>\n",
       "    .dataframe tbody tr th:only-of-type {\n",
       "        vertical-align: middle;\n",
       "    }\n",
       "\n",
       "    .dataframe tbody tr th {\n",
       "        vertical-align: top;\n",
       "    }\n",
       "\n",
       "    .dataframe thead th {\n",
       "        text-align: right;\n",
       "    }\n",
       "</style>\n",
       "<table border=\"1\" class=\"dataframe\">\n",
       "  <thead>\n",
       "    <tr style=\"text-align: right;\">\n",
       "      <th></th>\n",
       "      <th>Salary</th>\n",
       "      <th>age</th>\n",
       "      <th>Seniority</th>\n",
       "    </tr>\n",
       "  </thead>\n",
       "  <tbody>\n",
       "    <tr>\n",
       "      <th>Can</th>\n",
       "      <td>-0.169573</td>\n",
       "      <td>0.151705</td>\n",
       "      <td>0.086299</td>\n",
       "    </tr>\n",
       "    <tr>\n",
       "      <th>nida</th>\n",
       "      <td>-0.825419</td>\n",
       "      <td>-1.567459</td>\n",
       "      <td>-1.548886</td>\n",
       "    </tr>\n",
       "    <tr>\n",
       "      <th>ahmet</th>\n",
       "      <td>-1.998275</td>\n",
       "      <td>1.150717</td>\n",
       "      <td>0.552269</td>\n",
       "    </tr>\n",
       "    <tr>\n",
       "      <th>enes</th>\n",
       "      <td>-0.139602</td>\n",
       "      <td>-0.733331</td>\n",
       "      <td>-0.707400</td>\n",
       "    </tr>\n",
       "  </tbody>\n",
       "</table>\n",
       "</div>"
      ],
      "text/plain": [
       "         Salary       age  Seniority\n",
       "Can   -0.169573  0.151705   0.086299\n",
       "nida  -0.825419 -1.567459  -1.548886\n",
       "ahmet -1.998275  1.150717   0.552269\n",
       "enes  -0.139602 -0.733331  -0.707400"
      ]
     },
     "execution_count": 11,
     "metadata": {},
     "output_type": "execute_result"
    }
   ],
   "source": [
    "new_df"
   ]
  },
  {
   "cell_type": "code",
   "execution_count": 12,
   "id": "a85bf985-33b6-4759-bc78-1845196b7990",
   "metadata": {},
   "outputs": [
    {
     "data": {
      "text/plain": [
       "Salary      -0.169573\n",
       "age          0.151705\n",
       "Seniority    0.086299\n",
       "Name: Can, dtype: float64"
      ]
     },
     "execution_count": 12,
     "metadata": {},
     "output_type": "execute_result"
    }
   ],
   "source": [
    "new_df.loc[\"Can\"]"
   ]
  },
  {
   "cell_type": "code",
   "execution_count": 13,
   "id": "d1bce61f-e8c7-4b64-a607-0a927c39ac4f",
   "metadata": {},
   "outputs": [
    {
     "data": {
      "text/plain": [
       "Salary      -0.169573\n",
       "age          0.151705\n",
       "Seniority    0.086299\n",
       "Name: Can, dtype: float64"
      ]
     },
     "execution_count": 13,
     "metadata": {},
     "output_type": "execute_result"
    }
   ],
   "source": [
    "new_df.iloc[0]"
   ]
  },
  {
   "cell_type": "code",
   "execution_count": 14,
   "id": "07d22256-e8d8-4787-a344-d71b75863dc3",
   "metadata": {},
   "outputs": [
    {
     "data": {
      "text/html": [
       "<div>\n",
       "<style scoped>\n",
       "    .dataframe tbody tr th:only-of-type {\n",
       "        vertical-align: middle;\n",
       "    }\n",
       "\n",
       "    .dataframe tbody tr th {\n",
       "        vertical-align: top;\n",
       "    }\n",
       "\n",
       "    .dataframe thead th {\n",
       "        text-align: right;\n",
       "    }\n",
       "</style>\n",
       "<table border=\"1\" class=\"dataframe\">\n",
       "  <thead>\n",
       "    <tr style=\"text-align: right;\">\n",
       "      <th></th>\n",
       "      <th>Salary</th>\n",
       "      <th>age</th>\n",
       "      <th>Seniority</th>\n",
       "    </tr>\n",
       "  </thead>\n",
       "  <tbody>\n",
       "    <tr>\n",
       "      <th>Can</th>\n",
       "      <td>-0.169573</td>\n",
       "      <td>0.151705</td>\n",
       "      <td>0.086299</td>\n",
       "    </tr>\n",
       "    <tr>\n",
       "      <th>nida</th>\n",
       "      <td>-0.825419</td>\n",
       "      <td>-1.567459</td>\n",
       "      <td>-1.548886</td>\n",
       "    </tr>\n",
       "    <tr>\n",
       "      <th>ahmet</th>\n",
       "      <td>-1.998275</td>\n",
       "      <td>1.150717</td>\n",
       "      <td>0.552269</td>\n",
       "    </tr>\n",
       "    <tr>\n",
       "      <th>enes</th>\n",
       "      <td>-0.139602</td>\n",
       "      <td>-0.733331</td>\n",
       "      <td>-0.707400</td>\n",
       "    </tr>\n",
       "  </tbody>\n",
       "</table>\n",
       "</div>"
      ],
      "text/plain": [
       "         Salary       age  Seniority\n",
       "Can   -0.169573  0.151705   0.086299\n",
       "nida  -0.825419 -1.567459  -1.548886\n",
       "ahmet -1.998275  1.150717   0.552269\n",
       "enes  -0.139602 -0.733331  -0.707400"
      ]
     },
     "execution_count": 14,
     "metadata": {},
     "output_type": "execute_result"
    }
   ],
   "source": [
    "new_df"
   ]
  },
  {
   "cell_type": "code",
   "execution_count": 15,
   "id": "b94acfdb-6920-4a31-ba45-24bd74910ce4",
   "metadata": {},
   "outputs": [
    {
     "data": {
      "text/plain": [
       "Can     -0.169573\n",
       "nida    -0.825419\n",
       "ahmet   -1.998275\n",
       "enes    -0.139602\n",
       "Name: Salary, dtype: float64"
      ]
     },
     "execution_count": 15,
     "metadata": {},
     "output_type": "execute_result"
    }
   ],
   "source": [
    "new_df.iloc[:,0]"
   ]
  },
  {
   "cell_type": "code",
   "execution_count": 16,
   "id": "959627c3-8c16-4442-9a8e-883095550f04",
   "metadata": {},
   "outputs": [],
   "source": [
    "#ADD to Columns"
   ]
  },
  {
   "cell_type": "code",
   "execution_count": 17,
   "id": "06b49e83-8920-438b-a4a7-b9da1505f925",
   "metadata": {},
   "outputs": [],
   "source": [
    "new_df[\"extra\"]=10"
   ]
  },
  {
   "cell_type": "code",
   "execution_count": 18,
   "id": "f9e367ec-b4ae-49b6-8b11-4653f0eb8389",
   "metadata": {},
   "outputs": [
    {
     "data": {
      "text/html": [
       "<div>\n",
       "<style scoped>\n",
       "    .dataframe tbody tr th:only-of-type {\n",
       "        vertical-align: middle;\n",
       "    }\n",
       "\n",
       "    .dataframe tbody tr th {\n",
       "        vertical-align: top;\n",
       "    }\n",
       "\n",
       "    .dataframe thead th {\n",
       "        text-align: right;\n",
       "    }\n",
       "</style>\n",
       "<table border=\"1\" class=\"dataframe\">\n",
       "  <thead>\n",
       "    <tr style=\"text-align: right;\">\n",
       "      <th></th>\n",
       "      <th>Salary</th>\n",
       "      <th>age</th>\n",
       "      <th>Seniority</th>\n",
       "      <th>extra</th>\n",
       "    </tr>\n",
       "  </thead>\n",
       "  <tbody>\n",
       "    <tr>\n",
       "      <th>Can</th>\n",
       "      <td>-0.169573</td>\n",
       "      <td>0.151705</td>\n",
       "      <td>0.086299</td>\n",
       "      <td>10</td>\n",
       "    </tr>\n",
       "    <tr>\n",
       "      <th>nida</th>\n",
       "      <td>-0.825419</td>\n",
       "      <td>-1.567459</td>\n",
       "      <td>-1.548886</td>\n",
       "      <td>10</td>\n",
       "    </tr>\n",
       "    <tr>\n",
       "      <th>ahmet</th>\n",
       "      <td>-1.998275</td>\n",
       "      <td>1.150717</td>\n",
       "      <td>0.552269</td>\n",
       "      <td>10</td>\n",
       "    </tr>\n",
       "    <tr>\n",
       "      <th>enes</th>\n",
       "      <td>-0.139602</td>\n",
       "      <td>-0.733331</td>\n",
       "      <td>-0.707400</td>\n",
       "      <td>10</td>\n",
       "    </tr>\n",
       "  </tbody>\n",
       "</table>\n",
       "</div>"
      ],
      "text/plain": [
       "         Salary       age  Seniority  extra\n",
       "Can   -0.169573  0.151705   0.086299     10\n",
       "nida  -0.825419 -1.567459  -1.548886     10\n",
       "ahmet -1.998275  1.150717   0.552269     10\n",
       "enes  -0.139602 -0.733331  -0.707400     10"
      ]
     },
     "execution_count": 18,
     "metadata": {},
     "output_type": "execute_result"
    }
   ],
   "source": [
    "new_df"
   ]
  },
  {
   "cell_type": "code",
   "execution_count": 19,
   "id": "ebd2a7b4-b3c7-41ca-9dc9-37b366718b06",
   "metadata": {},
   "outputs": [
    {
     "data": {
      "text/html": [
       "<div>\n",
       "<style scoped>\n",
       "    .dataframe tbody tr th:only-of-type {\n",
       "        vertical-align: middle;\n",
       "    }\n",
       "\n",
       "    .dataframe tbody tr th {\n",
       "        vertical-align: top;\n",
       "    }\n",
       "\n",
       "    .dataframe thead th {\n",
       "        text-align: right;\n",
       "    }\n",
       "</style>\n",
       "<table border=\"1\" class=\"dataframe\">\n",
       "  <thead>\n",
       "    <tr style=\"text-align: right;\">\n",
       "      <th></th>\n",
       "      <th>Salary</th>\n",
       "      <th>age</th>\n",
       "      <th>Seniority</th>\n",
       "    </tr>\n",
       "  </thead>\n",
       "  <tbody>\n",
       "    <tr>\n",
       "      <th>Can</th>\n",
       "      <td>-0.169573</td>\n",
       "      <td>0.151705</td>\n",
       "      <td>0.086299</td>\n",
       "    </tr>\n",
       "    <tr>\n",
       "      <th>nida</th>\n",
       "      <td>-0.825419</td>\n",
       "      <td>-1.567459</td>\n",
       "      <td>-1.548886</td>\n",
       "    </tr>\n",
       "    <tr>\n",
       "      <th>ahmet</th>\n",
       "      <td>-1.998275</td>\n",
       "      <td>1.150717</td>\n",
       "      <td>0.552269</td>\n",
       "    </tr>\n",
       "    <tr>\n",
       "      <th>enes</th>\n",
       "      <td>-0.139602</td>\n",
       "      <td>-0.733331</td>\n",
       "      <td>-0.707400</td>\n",
       "    </tr>\n",
       "  </tbody>\n",
       "</table>\n",
       "</div>"
      ],
      "text/plain": [
       "         Salary       age  Seniority\n",
       "Can   -0.169573  0.151705   0.086299\n",
       "nida  -0.825419 -1.567459  -1.548886\n",
       "ahmet -1.998275  1.150717   0.552269\n",
       "enes  -0.139602 -0.733331  -0.707400"
      ]
     },
     "execution_count": 19,
     "metadata": {},
     "output_type": "execute_result"
    }
   ],
   "source": [
    "new_df.drop(\"extra\",axis=1)"
   ]
  },
  {
   "cell_type": "code",
   "execution_count": 20,
   "id": "e0b4c57c-d6e6-4ec8-baf1-a6fdb3f18d6f",
   "metadata": {},
   "outputs": [
    {
     "data": {
      "text/html": [
       "<div>\n",
       "<style scoped>\n",
       "    .dataframe tbody tr th:only-of-type {\n",
       "        vertical-align: middle;\n",
       "    }\n",
       "\n",
       "    .dataframe tbody tr th {\n",
       "        vertical-align: top;\n",
       "    }\n",
       "\n",
       "    .dataframe thead th {\n",
       "        text-align: right;\n",
       "    }\n",
       "</style>\n",
       "<table border=\"1\" class=\"dataframe\">\n",
       "  <thead>\n",
       "    <tr style=\"text-align: right;\">\n",
       "      <th></th>\n",
       "      <th>Salary</th>\n",
       "      <th>age</th>\n",
       "      <th>Seniority</th>\n",
       "      <th>extra</th>\n",
       "    </tr>\n",
       "  </thead>\n",
       "  <tbody>\n",
       "    <tr>\n",
       "      <th>Can</th>\n",
       "      <td>-0.169573</td>\n",
       "      <td>0.151705</td>\n",
       "      <td>0.086299</td>\n",
       "      <td>10</td>\n",
       "    </tr>\n",
       "    <tr>\n",
       "      <th>nida</th>\n",
       "      <td>-0.825419</td>\n",
       "      <td>-1.567459</td>\n",
       "      <td>-1.548886</td>\n",
       "      <td>10</td>\n",
       "    </tr>\n",
       "    <tr>\n",
       "      <th>ahmet</th>\n",
       "      <td>-1.998275</td>\n",
       "      <td>1.150717</td>\n",
       "      <td>0.552269</td>\n",
       "      <td>10</td>\n",
       "    </tr>\n",
       "    <tr>\n",
       "      <th>enes</th>\n",
       "      <td>-0.139602</td>\n",
       "      <td>-0.733331</td>\n",
       "      <td>-0.707400</td>\n",
       "      <td>10</td>\n",
       "    </tr>\n",
       "  </tbody>\n",
       "</table>\n",
       "</div>"
      ],
      "text/plain": [
       "         Salary       age  Seniority  extra\n",
       "Can   -0.169573  0.151705   0.086299     10\n",
       "nida  -0.825419 -1.567459  -1.548886     10\n",
       "ahmet -1.998275  1.150717   0.552269     10\n",
       "enes  -0.139602 -0.733331  -0.707400     10"
      ]
     },
     "execution_count": 20,
     "metadata": {},
     "output_type": "execute_result"
    }
   ],
   "source": [
    "new_df"
   ]
  },
  {
   "cell_type": "code",
   "execution_count": 21,
   "id": "84695277-9d28-4746-bc6e-871a85b56b88",
   "metadata": {},
   "outputs": [
    {
     "data": {
      "text/html": [
       "<div>\n",
       "<style scoped>\n",
       "    .dataframe tbody tr th:only-of-type {\n",
       "        vertical-align: middle;\n",
       "    }\n",
       "\n",
       "    .dataframe tbody tr th {\n",
       "        vertical-align: top;\n",
       "    }\n",
       "\n",
       "    .dataframe thead th {\n",
       "        text-align: right;\n",
       "    }\n",
       "</style>\n",
       "<table border=\"1\" class=\"dataframe\">\n",
       "  <thead>\n",
       "    <tr style=\"text-align: right;\">\n",
       "      <th></th>\n",
       "      <th>Salary</th>\n",
       "      <th>age</th>\n",
       "      <th>Seniority</th>\n",
       "      <th>extra</th>\n",
       "    </tr>\n",
       "  </thead>\n",
       "  <tbody>\n",
       "    <tr>\n",
       "      <th>Can</th>\n",
       "      <td>-0.169573</td>\n",
       "      <td>0.151705</td>\n",
       "      <td>0.086299</td>\n",
       "      <td>10</td>\n",
       "    </tr>\n",
       "    <tr>\n",
       "      <th>nida</th>\n",
       "      <td>-0.825419</td>\n",
       "      <td>-1.567459</td>\n",
       "      <td>-1.548886</td>\n",
       "      <td>10</td>\n",
       "    </tr>\n",
       "    <tr>\n",
       "      <th>ahmet</th>\n",
       "      <td>-1.998275</td>\n",
       "      <td>1.150717</td>\n",
       "      <td>0.552269</td>\n",
       "      <td>10</td>\n",
       "    </tr>\n",
       "    <tr>\n",
       "      <th>enes</th>\n",
       "      <td>-0.139602</td>\n",
       "      <td>-0.733331</td>\n",
       "      <td>-0.707400</td>\n",
       "      <td>10</td>\n",
       "    </tr>\n",
       "  </tbody>\n",
       "</table>\n",
       "</div>"
      ],
      "text/plain": [
       "         Salary       age  Seniority  extra\n",
       "Can   -0.169573  0.151705   0.086299     10\n",
       "nida  -0.825419 -1.567459  -1.548886     10\n",
       "ahmet -1.998275  1.150717   0.552269     10\n",
       "enes  -0.139602 -0.733331  -0.707400     10"
      ]
     },
     "execution_count": 21,
     "metadata": {},
     "output_type": "execute_result"
    }
   ],
   "source": [
    "new_df"
   ]
  },
  {
   "cell_type": "code",
   "execution_count": 22,
   "id": "0cf7f224-0dbb-4d85-a1a9-155397ac2828",
   "metadata": {},
   "outputs": [
    {
     "data": {
      "text/plain": [
       "np.float64(-0.1695734362202309)"
      ]
     },
     "execution_count": 22,
     "metadata": {},
     "output_type": "execute_result"
    }
   ],
   "source": [
    "new_df.loc[\"Can\"][\"Salary\"]"
   ]
  },
  {
   "cell_type": "code",
   "execution_count": 23,
   "id": "46d5e1e5-c52c-44fb-852c-ec1b2d47a3d4",
   "metadata": {},
   "outputs": [
    {
     "data": {
      "text/html": [
       "<div>\n",
       "<style scoped>\n",
       "    .dataframe tbody tr th:only-of-type {\n",
       "        vertical-align: middle;\n",
       "    }\n",
       "\n",
       "    .dataframe tbody tr th {\n",
       "        vertical-align: top;\n",
       "    }\n",
       "\n",
       "    .dataframe thead th {\n",
       "        text-align: right;\n",
       "    }\n",
       "</style>\n",
       "<table border=\"1\" class=\"dataframe\">\n",
       "  <thead>\n",
       "    <tr style=\"text-align: right;\">\n",
       "      <th></th>\n",
       "      <th>Salary</th>\n",
       "      <th>age</th>\n",
       "      <th>Seniority</th>\n",
       "      <th>extra</th>\n",
       "    </tr>\n",
       "  </thead>\n",
       "  <tbody>\n",
       "    <tr>\n",
       "      <th>Can</th>\n",
       "      <td>False</td>\n",
       "      <td>True</td>\n",
       "      <td>True</td>\n",
       "      <td>True</td>\n",
       "    </tr>\n",
       "    <tr>\n",
       "      <th>nida</th>\n",
       "      <td>False</td>\n",
       "      <td>False</td>\n",
       "      <td>False</td>\n",
       "      <td>True</td>\n",
       "    </tr>\n",
       "    <tr>\n",
       "      <th>ahmet</th>\n",
       "      <td>False</td>\n",
       "      <td>True</td>\n",
       "      <td>True</td>\n",
       "      <td>True</td>\n",
       "    </tr>\n",
       "    <tr>\n",
       "      <th>enes</th>\n",
       "      <td>False</td>\n",
       "      <td>False</td>\n",
       "      <td>False</td>\n",
       "      <td>True</td>\n",
       "    </tr>\n",
       "  </tbody>\n",
       "</table>\n",
       "</div>"
      ],
      "text/plain": [
       "       Salary    age  Seniority  extra\n",
       "Can     False   True       True   True\n",
       "nida    False  False      False   True\n",
       "ahmet   False   True       True   True\n",
       "enes    False  False      False   True"
      ]
     },
     "execution_count": 23,
     "metadata": {},
     "output_type": "execute_result"
    }
   ],
   "source": [
    "new_df>0"
   ]
  },
  {
   "cell_type": "code",
   "execution_count": null,
   "id": "b2e539da-959c-49b3-8b63-a9266280f658",
   "metadata": {},
   "outputs": [],
   "source": []
  },
  {
   "cell_type": "code",
   "execution_count": 24,
   "id": "496854d6-d4de-407d-884b-24b5d4a5f611",
   "metadata": {},
   "outputs": [],
   "source": [
    "new_df.loc[\"Can\"\"Salary\"]=50"
   ]
  },
  {
   "cell_type": "code",
   "execution_count": 25,
   "id": "8c5f3553-19d6-4f75-a214-e432af777d58",
   "metadata": {},
   "outputs": [],
   "source": [
    "new_df.drop(\"CanSalary\",inplace=True)"
   ]
  },
  {
   "cell_type": "code",
   "execution_count": 26,
   "id": "7b1554b9-2469-4dd1-9932-2422a205a635",
   "metadata": {},
   "outputs": [],
   "source": [
    "new_df.drop(\"extra\",axis=1,inplace=True)"
   ]
  },
  {
   "cell_type": "code",
   "execution_count": 27,
   "id": "26c5c337-942b-4551-90d9-c6844d5b5204",
   "metadata": {},
   "outputs": [
    {
     "data": {
      "text/html": [
       "<div>\n",
       "<style scoped>\n",
       "    .dataframe tbody tr th:only-of-type {\n",
       "        vertical-align: middle;\n",
       "    }\n",
       "\n",
       "    .dataframe tbody tr th {\n",
       "        vertical-align: top;\n",
       "    }\n",
       "\n",
       "    .dataframe thead th {\n",
       "        text-align: right;\n",
       "    }\n",
       "</style>\n",
       "<table border=\"1\" class=\"dataframe\">\n",
       "  <thead>\n",
       "    <tr style=\"text-align: right;\">\n",
       "      <th></th>\n",
       "      <th>Salary</th>\n",
       "      <th>age</th>\n",
       "      <th>Seniority</th>\n",
       "    </tr>\n",
       "  </thead>\n",
       "  <tbody>\n",
       "    <tr>\n",
       "      <th>Can</th>\n",
       "      <td>NaN</td>\n",
       "      <td>0.151705</td>\n",
       "      <td>0.086299</td>\n",
       "    </tr>\n",
       "    <tr>\n",
       "      <th>nida</th>\n",
       "      <td>NaN</td>\n",
       "      <td>NaN</td>\n",
       "      <td>NaN</td>\n",
       "    </tr>\n",
       "    <tr>\n",
       "      <th>ahmet</th>\n",
       "      <td>NaN</td>\n",
       "      <td>1.150717</td>\n",
       "      <td>0.552269</td>\n",
       "    </tr>\n",
       "    <tr>\n",
       "      <th>enes</th>\n",
       "      <td>NaN</td>\n",
       "      <td>NaN</td>\n",
       "      <td>NaN</td>\n",
       "    </tr>\n",
       "  </tbody>\n",
       "</table>\n",
       "</div>"
      ],
      "text/plain": [
       "       Salary       age  Seniority\n",
       "Can       NaN  0.151705   0.086299\n",
       "nida      NaN       NaN        NaN\n",
       "ahmet     NaN  1.150717   0.552269\n",
       "enes      NaN       NaN        NaN"
      ]
     },
     "execution_count": 27,
     "metadata": {},
     "output_type": "execute_result"
    }
   ],
   "source": [
    "new_df[new_df>0]"
   ]
  },
  {
   "cell_type": "code",
   "execution_count": 28,
   "id": "dd823802-e653-4fec-a3ef-58f4708e6d5a",
   "metadata": {},
   "outputs": [
    {
     "data": {
      "text/html": [
       "<div>\n",
       "<style scoped>\n",
       "    .dataframe tbody tr th:only-of-type {\n",
       "        vertical-align: middle;\n",
       "    }\n",
       "\n",
       "    .dataframe tbody tr th {\n",
       "        vertical-align: top;\n",
       "    }\n",
       "\n",
       "    .dataframe thead th {\n",
       "        text-align: right;\n",
       "    }\n",
       "</style>\n",
       "<table border=\"1\" class=\"dataframe\">\n",
       "  <thead>\n",
       "    <tr style=\"text-align: right;\">\n",
       "      <th></th>\n",
       "      <th>Salary</th>\n",
       "      <th>age</th>\n",
       "      <th>Seniority</th>\n",
       "    </tr>\n",
       "  </thead>\n",
       "  <tbody>\n",
       "  </tbody>\n",
       "</table>\n",
       "</div>"
      ],
      "text/plain": [
       "Empty DataFrame\n",
       "Columns: [Salary, age, Seniority]\n",
       "Index: []"
      ]
     },
     "execution_count": 28,
     "metadata": {},
     "output_type": "execute_result"
    }
   ],
   "source": [
    "new_df[new_df[\"Salary\"]>0]"
   ]
  },
  {
   "cell_type": "code",
   "execution_count": 29,
   "id": "39d7b168-4c29-4920-96b6-e12f624e071d",
   "metadata": {},
   "outputs": [],
   "source": [
    "#DataFram INdex Chanching"
   ]
  },
  {
   "cell_type": "code",
   "execution_count": 30,
   "id": "9963ef1f-99da-4c22-825f-c35825cdf6d7",
   "metadata": {},
   "outputs": [],
   "source": [
    "new_reset=new_df.reset_index()"
   ]
  },
  {
   "cell_type": "code",
   "execution_count": 31,
   "id": "0b07ed90-d741-4670-9e19-b11751daa2dd",
   "metadata": {},
   "outputs": [
    {
     "data": {
      "text/html": [
       "<div>\n",
       "<style scoped>\n",
       "    .dataframe tbody tr th:only-of-type {\n",
       "        vertical-align: middle;\n",
       "    }\n",
       "\n",
       "    .dataframe tbody tr th {\n",
       "        vertical-align: top;\n",
       "    }\n",
       "\n",
       "    .dataframe thead th {\n",
       "        text-align: right;\n",
       "    }\n",
       "</style>\n",
       "<table border=\"1\" class=\"dataframe\">\n",
       "  <thead>\n",
       "    <tr style=\"text-align: right;\">\n",
       "      <th></th>\n",
       "      <th>index</th>\n",
       "      <th>Salary</th>\n",
       "      <th>age</th>\n",
       "      <th>Seniority</th>\n",
       "    </tr>\n",
       "  </thead>\n",
       "  <tbody>\n",
       "    <tr>\n",
       "      <th>0</th>\n",
       "      <td>Can</td>\n",
       "      <td>-0.169573</td>\n",
       "      <td>0.151705</td>\n",
       "      <td>0.086299</td>\n",
       "    </tr>\n",
       "    <tr>\n",
       "      <th>1</th>\n",
       "      <td>nida</td>\n",
       "      <td>-0.825419</td>\n",
       "      <td>-1.567459</td>\n",
       "      <td>-1.548886</td>\n",
       "    </tr>\n",
       "    <tr>\n",
       "      <th>2</th>\n",
       "      <td>ahmet</td>\n",
       "      <td>-1.998275</td>\n",
       "      <td>1.150717</td>\n",
       "      <td>0.552269</td>\n",
       "    </tr>\n",
       "    <tr>\n",
       "      <th>3</th>\n",
       "      <td>enes</td>\n",
       "      <td>-0.139602</td>\n",
       "      <td>-0.733331</td>\n",
       "      <td>-0.707400</td>\n",
       "    </tr>\n",
       "  </tbody>\n",
       "</table>\n",
       "</div>"
      ],
      "text/plain": [
       "   index    Salary       age  Seniority\n",
       "0    Can -0.169573  0.151705   0.086299\n",
       "1   nida -0.825419 -1.567459  -1.548886\n",
       "2  ahmet -1.998275  1.150717   0.552269\n",
       "3   enes -0.139602 -0.733331  -0.707400"
      ]
     },
     "execution_count": 31,
     "metadata": {},
     "output_type": "execute_result"
    }
   ],
   "source": [
    "new_reset"
   ]
  },
  {
   "cell_type": "code",
   "execution_count": 32,
   "id": "5da9a250-fff5-4825-a677-f58b3107bd9b",
   "metadata": {},
   "outputs": [
    {
     "data": {
      "text/html": [
       "<div>\n",
       "<style scoped>\n",
       "    .dataframe tbody tr th:only-of-type {\n",
       "        vertical-align: middle;\n",
       "    }\n",
       "\n",
       "    .dataframe tbody tr th {\n",
       "        vertical-align: top;\n",
       "    }\n",
       "\n",
       "    .dataframe thead th {\n",
       "        text-align: right;\n",
       "    }\n",
       "</style>\n",
       "<table border=\"1\" class=\"dataframe\">\n",
       "  <thead>\n",
       "    <tr style=\"text-align: right;\">\n",
       "      <th></th>\n",
       "      <th>Salary</th>\n",
       "      <th>age</th>\n",
       "      <th>Seniority</th>\n",
       "    </tr>\n",
       "  </thead>\n",
       "  <tbody>\n",
       "    <tr>\n",
       "      <th>Can</th>\n",
       "      <td>-0.169573</td>\n",
       "      <td>0.151705</td>\n",
       "      <td>0.086299</td>\n",
       "    </tr>\n",
       "    <tr>\n",
       "      <th>nida</th>\n",
       "      <td>-0.825419</td>\n",
       "      <td>-1.567459</td>\n",
       "      <td>-1.548886</td>\n",
       "    </tr>\n",
       "    <tr>\n",
       "      <th>ahmet</th>\n",
       "      <td>-1.998275</td>\n",
       "      <td>1.150717</td>\n",
       "      <td>0.552269</td>\n",
       "    </tr>\n",
       "    <tr>\n",
       "      <th>enes</th>\n",
       "      <td>-0.139602</td>\n",
       "      <td>-0.733331</td>\n",
       "      <td>-0.707400</td>\n",
       "    </tr>\n",
       "  </tbody>\n",
       "</table>\n",
       "</div>"
      ],
      "text/plain": [
       "         Salary       age  Seniority\n",
       "Can   -0.169573  0.151705   0.086299\n",
       "nida  -0.825419 -1.567459  -1.548886\n",
       "ahmet -1.998275  1.150717   0.552269\n",
       "enes  -0.139602 -0.733331  -0.707400"
      ]
     },
     "execution_count": 32,
     "metadata": {},
     "output_type": "execute_result"
    }
   ],
   "source": [
    "new_df"
   ]
  },
  {
   "cell_type": "code",
   "execution_count": 33,
   "id": "288e8799-5de9-461e-9030-2cde7b44372c",
   "metadata": {},
   "outputs": [],
   "source": [
    "new_df[\"NewIndex\"]=[\"K.CAN\",\"Ş.NIDA\",\"AHMET.G\",\"M.ENES\"]"
   ]
  },
  {
   "cell_type": "code",
   "execution_count": 34,
   "id": "57f92cdb-758c-4052-a0df-0cd91dc0cf13",
   "metadata": {
    "scrolled": true
   },
   "outputs": [
    {
     "data": {
      "text/html": [
       "<div>\n",
       "<style scoped>\n",
       "    .dataframe tbody tr th:only-of-type {\n",
       "        vertical-align: middle;\n",
       "    }\n",
       "\n",
       "    .dataframe tbody tr th {\n",
       "        vertical-align: top;\n",
       "    }\n",
       "\n",
       "    .dataframe thead th {\n",
       "        text-align: right;\n",
       "    }\n",
       "</style>\n",
       "<table border=\"1\" class=\"dataframe\">\n",
       "  <thead>\n",
       "    <tr style=\"text-align: right;\">\n",
       "      <th></th>\n",
       "      <th>Salary</th>\n",
       "      <th>age</th>\n",
       "      <th>Seniority</th>\n",
       "      <th>NewIndex</th>\n",
       "    </tr>\n",
       "  </thead>\n",
       "  <tbody>\n",
       "    <tr>\n",
       "      <th>Can</th>\n",
       "      <td>-0.169573</td>\n",
       "      <td>0.151705</td>\n",
       "      <td>0.086299</td>\n",
       "      <td>K.CAN</td>\n",
       "    </tr>\n",
       "    <tr>\n",
       "      <th>nida</th>\n",
       "      <td>-0.825419</td>\n",
       "      <td>-1.567459</td>\n",
       "      <td>-1.548886</td>\n",
       "      <td>Ş.NIDA</td>\n",
       "    </tr>\n",
       "    <tr>\n",
       "      <th>ahmet</th>\n",
       "      <td>-1.998275</td>\n",
       "      <td>1.150717</td>\n",
       "      <td>0.552269</td>\n",
       "      <td>AHMET.G</td>\n",
       "    </tr>\n",
       "    <tr>\n",
       "      <th>enes</th>\n",
       "      <td>-0.139602</td>\n",
       "      <td>-0.733331</td>\n",
       "      <td>-0.707400</td>\n",
       "      <td>M.ENES</td>\n",
       "    </tr>\n",
       "  </tbody>\n",
       "</table>\n",
       "</div>"
      ],
      "text/plain": [
       "         Salary       age  Seniority NewIndex\n",
       "Can   -0.169573  0.151705   0.086299    K.CAN\n",
       "nida  -0.825419 -1.567459  -1.548886   Ş.NIDA\n",
       "ahmet -1.998275  1.150717   0.552269  AHMET.G\n",
       "enes  -0.139602 -0.733331  -0.707400   M.ENES"
      ]
     },
     "execution_count": 34,
     "metadata": {},
     "output_type": "execute_result"
    }
   ],
   "source": [
    "new_df"
   ]
  },
  {
   "cell_type": "code",
   "execution_count": 35,
   "id": "919d3ab2-3714-4f4b-87f6-6b22681f4700",
   "metadata": {},
   "outputs": [],
   "source": [
    "new_df.set_index(\"NewIndex\",inplace=True)"
   ]
  },
  {
   "cell_type": "code",
   "execution_count": 36,
   "id": "ad889029-b81a-4465-9dd4-cd680ff9f5b1",
   "metadata": {
    "scrolled": true
   },
   "outputs": [
    {
     "data": {
      "text/html": [
       "<div>\n",
       "<style scoped>\n",
       "    .dataframe tbody tr th:only-of-type {\n",
       "        vertical-align: middle;\n",
       "    }\n",
       "\n",
       "    .dataframe tbody tr th {\n",
       "        vertical-align: top;\n",
       "    }\n",
       "\n",
       "    .dataframe thead th {\n",
       "        text-align: right;\n",
       "    }\n",
       "</style>\n",
       "<table border=\"1\" class=\"dataframe\">\n",
       "  <thead>\n",
       "    <tr style=\"text-align: right;\">\n",
       "      <th></th>\n",
       "      <th>Salary</th>\n",
       "      <th>age</th>\n",
       "      <th>Seniority</th>\n",
       "    </tr>\n",
       "    <tr>\n",
       "      <th>NewIndex</th>\n",
       "      <th></th>\n",
       "      <th></th>\n",
       "      <th></th>\n",
       "    </tr>\n",
       "  </thead>\n",
       "  <tbody>\n",
       "    <tr>\n",
       "      <th>K.CAN</th>\n",
       "      <td>-0.169573</td>\n",
       "      <td>0.151705</td>\n",
       "      <td>0.086299</td>\n",
       "    </tr>\n",
       "    <tr>\n",
       "      <th>Ş.NIDA</th>\n",
       "      <td>-0.825419</td>\n",
       "      <td>-1.567459</td>\n",
       "      <td>-1.548886</td>\n",
       "    </tr>\n",
       "    <tr>\n",
       "      <th>AHMET.G</th>\n",
       "      <td>-1.998275</td>\n",
       "      <td>1.150717</td>\n",
       "      <td>0.552269</td>\n",
       "    </tr>\n",
       "    <tr>\n",
       "      <th>M.ENES</th>\n",
       "      <td>-0.139602</td>\n",
       "      <td>-0.733331</td>\n",
       "      <td>-0.707400</td>\n",
       "    </tr>\n",
       "  </tbody>\n",
       "</table>\n",
       "</div>"
      ],
      "text/plain": [
       "            Salary       age  Seniority\n",
       "NewIndex                               \n",
       "K.CAN    -0.169573  0.151705   0.086299\n",
       "Ş.NIDA   -0.825419 -1.567459  -1.548886\n",
       "AHMET.G  -1.998275  1.150717   0.552269\n",
       "M.ENES   -0.139602 -0.733331  -0.707400"
      ]
     },
     "execution_count": 36,
     "metadata": {},
     "output_type": "execute_result"
    }
   ],
   "source": [
    "new_df"
   ]
  },
  {
   "cell_type": "code",
   "execution_count": 37,
   "id": "9cca0a65-77bb-4a69-bcbf-dd1d8e70cb28",
   "metadata": {},
   "outputs": [],
   "source": [
    "new_df2=new_df.set_index([pd.Index([\"abc\",\"b\",\"c\",\"d\"])])\n"
   ]
  },
  {
   "cell_type": "code",
   "execution_count": 38,
   "id": "fff43e8f-c9d0-49af-a627-c8ed851c273c",
   "metadata": {},
   "outputs": [
    {
     "data": {
      "text/html": [
       "<div>\n",
       "<style scoped>\n",
       "    .dataframe tbody tr th:only-of-type {\n",
       "        vertical-align: middle;\n",
       "    }\n",
       "\n",
       "    .dataframe tbody tr th {\n",
       "        vertical-align: top;\n",
       "    }\n",
       "\n",
       "    .dataframe thead th {\n",
       "        text-align: right;\n",
       "    }\n",
       "</style>\n",
       "<table border=\"1\" class=\"dataframe\">\n",
       "  <thead>\n",
       "    <tr style=\"text-align: right;\">\n",
       "      <th></th>\n",
       "      <th>Salary</th>\n",
       "      <th>age</th>\n",
       "      <th>Seniority</th>\n",
       "    </tr>\n",
       "  </thead>\n",
       "  <tbody>\n",
       "    <tr>\n",
       "      <th>abc</th>\n",
       "      <td>-0.169573</td>\n",
       "      <td>0.151705</td>\n",
       "      <td>0.086299</td>\n",
       "    </tr>\n",
       "    <tr>\n",
       "      <th>b</th>\n",
       "      <td>-0.825419</td>\n",
       "      <td>-1.567459</td>\n",
       "      <td>-1.548886</td>\n",
       "    </tr>\n",
       "    <tr>\n",
       "      <th>c</th>\n",
       "      <td>-1.998275</td>\n",
       "      <td>1.150717</td>\n",
       "      <td>0.552269</td>\n",
       "    </tr>\n",
       "    <tr>\n",
       "      <th>d</th>\n",
       "      <td>-0.139602</td>\n",
       "      <td>-0.733331</td>\n",
       "      <td>-0.707400</td>\n",
       "    </tr>\n",
       "  </tbody>\n",
       "</table>\n",
       "</div>"
      ],
      "text/plain": [
       "       Salary       age  Seniority\n",
       "abc -0.169573  0.151705   0.086299\n",
       "b   -0.825419 -1.567459  -1.548886\n",
       "c   -1.998275  1.150717   0.552269\n",
       "d   -0.139602 -0.733331  -0.707400"
      ]
     },
     "execution_count": 38,
     "metadata": {},
     "output_type": "execute_result"
    }
   ],
   "source": [
    "new_df2"
   ]
  },
  {
   "cell_type": "code",
   "execution_count": 39,
   "id": "dd1d0508-55c6-4866-9a5a-893d3081e3c8",
   "metadata": {},
   "outputs": [],
   "source": [
    "#MultiIndex"
   ]
  },
  {
   "cell_type": "code",
   "execution_count": 40,
   "id": "8b145cd4-9a0b-440c-a305-93a1014684b7",
   "metadata": {},
   "outputs": [],
   "source": [
    "first_index=[\"Türkiye\",\"Türkiye\",\"Türkiye\",\"Almanya\",\"Almanya\",\"Almanya\"]"
   ]
  },
  {
   "cell_type": "code",
   "execution_count": 41,
   "id": "94fa0a7a-9a73-4089-b973-37926b9219d1",
   "metadata": {},
   "outputs": [],
   "source": [
    "inner_index=[\"Adıyaman\",\"Ankara\",\"İstanbul\",\"Berlin\",\"Munchen\",\"Dordmund\"]"
   ]
  },
  {
   "cell_type": "code",
   "execution_count": 42,
   "id": "b649da74-7936-4ec8-b242-625454e365d4",
   "metadata": {},
   "outputs": [],
   "source": [
    "zipper_list=list(zip(first_index,inner_index))"
   ]
  },
  {
   "cell_type": "code",
   "execution_count": 43,
   "id": "67183c35-e205-4038-8f66-e4343f6e1f5b",
   "metadata": {},
   "outputs": [
    {
     "data": {
      "text/plain": [
       "[('Türkiye', 'Adıyaman'),\n",
       " ('Türkiye', 'Ankara'),\n",
       " ('Türkiye', 'İstanbul'),\n",
       " ('Almanya', 'Berlin'),\n",
       " ('Almanya', 'Munchen'),\n",
       " ('Almanya', 'Dordmund')]"
      ]
     },
     "execution_count": 43,
     "metadata": {},
     "output_type": "execute_result"
    }
   ],
   "source": [
    "zipper_list"
   ]
  },
  {
   "cell_type": "code",
   "execution_count": 44,
   "id": "6d53060e-bf1c-4ff7-be03-4fb47bc0676b",
   "metadata": {},
   "outputs": [],
   "source": [
    "zipper_list=pd.MultiIndex.from_tuples(zipper_list)"
   ]
  },
  {
   "cell_type": "code",
   "execution_count": 45,
   "id": "7319afce-2943-4499-9e9b-4ddd3e9487b5",
   "metadata": {},
   "outputs": [],
   "source": [
    "data=np.ones((6,2))"
   ]
  },
  {
   "cell_type": "code",
   "execution_count": 46,
   "id": "3c995078-2051-414c-b4d2-77eac4b0805c",
   "metadata": {},
   "outputs": [
    {
     "data": {
      "text/plain": [
       "array([[1., 1.],\n",
       "       [1., 1.],\n",
       "       [1., 1.],\n",
       "       [1., 1.],\n",
       "       [1., 1.],\n",
       "       [1., 1.]])"
      ]
     },
     "execution_count": 46,
     "metadata": {},
     "output_type": "execute_result"
    }
   ],
   "source": [
    "data"
   ]
  },
  {
   "cell_type": "code",
   "execution_count": 47,
   "id": "2f8942c3-4bf2-4dd9-9bd3-da1683cf0554",
   "metadata": {},
   "outputs": [],
   "source": [
    "dataframe=pd.DataFrame(data,index=zipper_list,columns=[\"Age\",\"Salary\"])"
   ]
  },
  {
   "cell_type": "code",
   "execution_count": 48,
   "id": "e09f945d-287b-4e8c-9351-bbed283c0f6f",
   "metadata": {},
   "outputs": [
    {
     "data": {
      "text/html": [
       "<div>\n",
       "<style scoped>\n",
       "    .dataframe tbody tr th:only-of-type {\n",
       "        vertical-align: middle;\n",
       "    }\n",
       "\n",
       "    .dataframe tbody tr th {\n",
       "        vertical-align: top;\n",
       "    }\n",
       "\n",
       "    .dataframe thead th {\n",
       "        text-align: right;\n",
       "    }\n",
       "</style>\n",
       "<table border=\"1\" class=\"dataframe\">\n",
       "  <thead>\n",
       "    <tr style=\"text-align: right;\">\n",
       "      <th></th>\n",
       "      <th></th>\n",
       "      <th>Age</th>\n",
       "      <th>Salary</th>\n",
       "    </tr>\n",
       "  </thead>\n",
       "  <tbody>\n",
       "    <tr>\n",
       "      <th rowspan=\"3\" valign=\"top\">Türkiye</th>\n",
       "      <th>Adıyaman</th>\n",
       "      <td>1.0</td>\n",
       "      <td>1.0</td>\n",
       "    </tr>\n",
       "    <tr>\n",
       "      <th>Ankara</th>\n",
       "      <td>1.0</td>\n",
       "      <td>1.0</td>\n",
       "    </tr>\n",
       "    <tr>\n",
       "      <th>İstanbul</th>\n",
       "      <td>1.0</td>\n",
       "      <td>1.0</td>\n",
       "    </tr>\n",
       "    <tr>\n",
       "      <th rowspan=\"3\" valign=\"top\">Almanya</th>\n",
       "      <th>Berlin</th>\n",
       "      <td>1.0</td>\n",
       "      <td>1.0</td>\n",
       "    </tr>\n",
       "    <tr>\n",
       "      <th>Munchen</th>\n",
       "      <td>1.0</td>\n",
       "      <td>1.0</td>\n",
       "    </tr>\n",
       "    <tr>\n",
       "      <th>Dordmund</th>\n",
       "      <td>1.0</td>\n",
       "      <td>1.0</td>\n",
       "    </tr>\n",
       "  </tbody>\n",
       "</table>\n",
       "</div>"
      ],
      "text/plain": [
       "                  Age  Salary\n",
       "Türkiye Adıyaman  1.0     1.0\n",
       "        Ankara    1.0     1.0\n",
       "        İstanbul  1.0     1.0\n",
       "Almanya Berlin    1.0     1.0\n",
       "        Munchen   1.0     1.0\n",
       "        Dordmund  1.0     1.0"
      ]
     },
     "execution_count": 48,
     "metadata": {},
     "output_type": "execute_result"
    }
   ],
   "source": [
    "dataframe"
   ]
  },
  {
   "cell_type": "code",
   "execution_count": 49,
   "id": "9b92f2e5-da24-49ac-950d-64a1a70871f5",
   "metadata": {},
   "outputs": [
    {
     "data": {
      "text/plain": [
       "Age       1.0\n",
       "Salary    1.0\n",
       "Name: Adıyaman, dtype: float64"
      ]
     },
     "execution_count": 49,
     "metadata": {},
     "output_type": "execute_result"
    }
   ],
   "source": [
    "dataframe.loc[\"Türkiye\"].loc[\"Adıyaman\"]"
   ]
  },
  {
   "cell_type": "code",
   "execution_count": null,
   "id": "86962b91-a076-4b39-b964-1528920ddca7",
   "metadata": {},
   "outputs": [],
   "source": []
  }
 ],
 "metadata": {
  "kernelspec": {
   "display_name": "Python [conda env:base] *",
   "language": "python",
   "name": "conda-base-py"
  },
  "language_info": {
   "codemirror_mode": {
    "name": "ipython",
    "version": 3
   },
   "file_extension": ".py",
   "mimetype": "text/x-python",
   "name": "python",
   "nbconvert_exporter": "python",
   "pygments_lexer": "ipython3",
   "version": "3.13.5"
  }
 },
 "nbformat": 4,
 "nbformat_minor": 5
}
